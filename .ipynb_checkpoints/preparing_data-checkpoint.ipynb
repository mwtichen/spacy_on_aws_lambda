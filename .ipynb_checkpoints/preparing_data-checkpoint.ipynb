{
 "cells": [
  {
   "cell_type": "code",
   "execution_count": 1,
   "metadata": {},
   "outputs": [],
   "source": [
    "import pandas as pd"
   ]
  },
  {
   "cell_type": "code",
   "execution_count": 2,
   "metadata": {},
   "outputs": [],
   "source": [
    "url = \"https://groups.csail.mit.edu/sls/downloads/movie/engtrain.bio\""
   ]
  },
  {
   "cell_type": "code",
   "execution_count": 3,
   "metadata": {},
   "outputs": [
    {
     "data": {
      "text/html": [
       "<div>\n",
       "<style scoped>\n",
       "    .dataframe tbody tr th:only-of-type {\n",
       "        vertical-align: middle;\n",
       "    }\n",
       "\n",
       "    .dataframe tbody tr th {\n",
       "        vertical-align: top;\n",
       "    }\n",
       "\n",
       "    .dataframe thead th {\n",
       "        text-align: right;\n",
       "    }\n",
       "</style>\n",
       "<table border=\"1\" class=\"dataframe\">\n",
       "  <thead>\n",
       "    <tr style=\"text-align: right;\">\n",
       "      <th></th>\n",
       "      <th>tag</th>\n",
       "      <th>token</th>\n",
       "    </tr>\n",
       "  </thead>\n",
       "  <tbody>\n",
       "    <tr>\n",
       "      <th>0</th>\n",
       "      <td>O</td>\n",
       "      <td>what</td>\n",
       "    </tr>\n",
       "    <tr>\n",
       "      <th>1</th>\n",
       "      <td>O</td>\n",
       "      <td>movies</td>\n",
       "    </tr>\n",
       "    <tr>\n",
       "      <th>2</th>\n",
       "      <td>O</td>\n",
       "      <td>star</td>\n",
       "    </tr>\n",
       "    <tr>\n",
       "      <th>3</th>\n",
       "      <td>B-ACTOR</td>\n",
       "      <td>bruce</td>\n",
       "    </tr>\n",
       "    <tr>\n",
       "      <th>4</th>\n",
       "      <td>I-ACTOR</td>\n",
       "      <td>willis</td>\n",
       "    </tr>\n",
       "  </tbody>\n",
       "</table>\n",
       "</div>"
      ],
      "text/plain": [
       "       tag   token\n",
       "0        O    what\n",
       "1        O  movies\n",
       "2        O    star\n",
       "3  B-ACTOR   bruce\n",
       "4  I-ACTOR  willis"
      ]
     },
     "execution_count": 3,
     "metadata": {},
     "output_type": "execute_result"
    }
   ],
   "source": [
    "df = pd.read_csv(url, sep = \"\\t\", names = ['tag', 'token'], skip_blank_lines = False)\n",
    "df.head()"
   ]
  },
  {
   "cell_type": "code",
   "execution_count": 4,
   "metadata": {},
   "outputs": [],
   "source": [
    "entities = []\n",
    "text = []\n",
    "data = []\n",
    "\n",
    "for idx, row in df.iterrows():\n",
    "    if pd.isnull(row['token']):\n",
    "        # do something\n",
    "        sentence = \" \".join(text)\n",
    "        ent_dict = {'entities': entities}\n",
    "        data.append((sentence, ent_dict))\n",
    "        text = []\n",
    "        entities = []\n",
    "        continue\n",
    "    text.append(row['token'])\n",
    "    entities.append(row['tag'])\n"
   ]
  },
  {
   "cell_type": "code",
   "execution_count": 5,
   "metadata": {},
   "outputs": [],
   "source": [
    "from tqdm import tqdm"
   ]
  },
  {
   "cell_type": "code",
   "execution_count": 6,
   "metadata": {},
   "outputs": [],
   "source": [
    "def get_BILOU_from_BIO(ents):\n",
    "    results = []\n",
    "    next_ent = None\n",
    "    curr_ent = None\n",
    "    # entity lists of length 1\n",
    "    if len(ents) == 1:\n",
    "        # outside entities\n",
    "        if ents[0][0] == 'O':\n",
    "            return(['O'])\n",
    "        # unit length entities\n",
    "        else:\n",
    "            return(['U-' + ents[0][2:]])\n",
    "    # entity lists longer than 1\n",
    "    for i in range(len(ents)-1):\n",
    "        # get entities\n",
    "        curr_ent = ents[i]\n",
    "        next_ent = ents[i+1]\n",
    "            \n",
    "        # outside entities\n",
    "        if curr_ent[0] == 'O':\n",
    "            results.append('O')\n",
    "        # unit length entities\n",
    "        elif curr_ent[0] == 'B' and (next_ent[0] == 'O'):\n",
    "            results.append('U-' + curr_ent[2:])\n",
    "        # last element of a chunk\n",
    "        elif curr_ent[0] == 'I' and (next_ent[0] != 'I'):\n",
    "            results.append('L-' + curr_ent[2:])\n",
    "        # first element or inside element of a chunk\n",
    "        else:\n",
    "            results.append(ents[i])\n",
    "    # handle logic for last case\n",
    "    # outside entities\n",
    "    if next_ent[0] == 'O':\n",
    "        results.append('O')\n",
    "    # last element of a chunk\n",
    "    elif next_ent[0] == 'I':\n",
    "        results.append('L-' + next_ent[2:])\n",
    "    # unit length entity\n",
    "    else:\n",
    "        results.append('U-' + next_ent[2:])\n",
    "    return results"
   ]
  },
  {
   "cell_type": "code",
   "execution_count": 7,
   "metadata": {},
   "outputs": [
    {
     "name": "stderr",
     "output_type": "stream",
     "text": [
      "100%|██████████████████████████████████████████████████████████████████████████| 9775/9775 [00:00<00:00, 153079.07it/s]\n"
     ]
    }
   ],
   "source": [
    "BILOU_data = []\n",
    "\n",
    "for i in tqdm(range(len(data))):\n",
    "    BIO_ents = data[i][1]['entities']\n",
    "    BILOU_ents = get_BILOU_from_BIO(BIO_ents)\n",
    "    BILOU_data.append((data[i][0], {'entities': BILOU_ents}))"
   ]
  },
  {
   "cell_type": "code",
   "execution_count": 9,
   "metadata": {},
   "outputs": [],
   "source": [
    "import pickle"
   ]
  },
  {
   "cell_type": "code",
   "execution_count": 10,
   "metadata": {},
   "outputs": [],
   "source": [
    "with open('training_data', 'wb') as train:\n",
    "    pickle.dump(BILOU_data, train)"
   ]
  },
  {
   "cell_type": "code",
   "execution_count": 11,
   "metadata": {},
   "outputs": [
    {
     "data": {
      "text/html": [
       "<div>\n",
       "<style scoped>\n",
       "    .dataframe tbody tr th:only-of-type {\n",
       "        vertical-align: middle;\n",
       "    }\n",
       "\n",
       "    .dataframe tbody tr th {\n",
       "        vertical-align: top;\n",
       "    }\n",
       "\n",
       "    .dataframe thead th {\n",
       "        text-align: right;\n",
       "    }\n",
       "</style>\n",
       "<table border=\"1\" class=\"dataframe\">\n",
       "  <thead>\n",
       "    <tr style=\"text-align: right;\">\n",
       "      <th></th>\n",
       "      <th>tag</th>\n",
       "      <th>token</th>\n",
       "    </tr>\n",
       "  </thead>\n",
       "  <tbody>\n",
       "    <tr>\n",
       "      <th>0</th>\n",
       "      <td>O</td>\n",
       "      <td>are</td>\n",
       "    </tr>\n",
       "    <tr>\n",
       "      <th>1</th>\n",
       "      <td>O</td>\n",
       "      <td>there</td>\n",
       "    </tr>\n",
       "    <tr>\n",
       "      <th>2</th>\n",
       "      <td>O</td>\n",
       "      <td>any</td>\n",
       "    </tr>\n",
       "    <tr>\n",
       "      <th>3</th>\n",
       "      <td>O</td>\n",
       "      <td>good</td>\n",
       "    </tr>\n",
       "    <tr>\n",
       "      <th>4</th>\n",
       "      <td>B-GENRE</td>\n",
       "      <td>romantic</td>\n",
       "    </tr>\n",
       "  </tbody>\n",
       "</table>\n",
       "</div>"
      ],
      "text/plain": [
       "       tag     token\n",
       "0        O       are\n",
       "1        O     there\n",
       "2        O       any\n",
       "3        O      good\n",
       "4  B-GENRE  romantic"
      ]
     },
     "execution_count": 11,
     "metadata": {},
     "output_type": "execute_result"
    }
   ],
   "source": [
    "url = \"https://groups.csail.mit.edu/sls/downloads/movie/engtest.bio\"\n",
    "df = pd.read_csv(url, sep = \"\\t\", names = ['tag', 'token'], skip_blank_lines = False)\n",
    "df.head()"
   ]
  },
  {
   "cell_type": "code",
   "execution_count": 12,
   "metadata": {},
   "outputs": [],
   "source": [
    "entities = []\n",
    "text = []\n",
    "data = []\n",
    "\n",
    "for idx, row in df.iterrows():\n",
    "    if pd.isnull(row['token']):\n",
    "        # do something\n",
    "        sentence = \" \".join(text)\n",
    "        ent_dict = {'entities': entities}\n",
    "        data.append((sentence, ent_dict))\n",
    "        text = []\n",
    "        entities = []\n",
    "        continue\n",
    "    text.append(row['token'])\n",
    "    entities.append(row['tag'])\n"
   ]
  },
  {
   "cell_type": "code",
   "execution_count": 13,
   "metadata": {},
   "outputs": [
    {
     "name": "stderr",
     "output_type": "stream",
     "text": [
      "100%|██████████████████████████████████████████████████████████████████████████| 2443/2443 [00:00<00:00, 222681.40it/s]\n"
     ]
    }
   ],
   "source": [
    "BILOU_data = []\n",
    "\n",
    "for i in tqdm(range(len(data))):\n",
    "    BIO_ents = data[i][1]['entities']\n",
    "    BILOU_ents = get_BILOU_from_BIO(BIO_ents)\n",
    "    BILOU_data.append((data[i][0], {'entities': BILOU_ents}))"
   ]
  },
  {
   "cell_type": "code",
   "execution_count": 14,
   "metadata": {},
   "outputs": [],
   "source": [
    "with open('test_data', 'wb') as test:\n",
    "    pickle.dump(BILOU_data, test)"
   ]
  },
  {
   "cell_type": "code",
   "execution_count": null,
   "metadata": {},
   "outputs": [],
   "source": []
  }
 ],
 "metadata": {
  "kernelspec": {
   "display_name": "Python 3",
   "language": "python",
   "name": "python3"
  },
  "language_info": {
   "codemirror_mode": {
    "name": "ipython",
    "version": 3
   },
   "file_extension": ".py",
   "mimetype": "text/x-python",
   "name": "python",
   "nbconvert_exporter": "python",
   "pygments_lexer": "ipython3",
   "version": "3.7.4"
  }
 },
 "nbformat": 4,
 "nbformat_minor": 4
}
