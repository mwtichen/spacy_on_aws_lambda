{
 "cells": [
  {
   "cell_type": "code",
   "execution_count": 1,
   "metadata": {},
   "outputs": [],
   "source": [
    "import spacy\n",
    "from spacy.gold import offsets_from_biluo_tags\n",
    "from spacy.scorer import Scorer\n",
    "from spacy.gold import GoldParse\n",
    "import pickle\n",
    "import random\n",
    "from spacy.util import minibatch, compounding\n",
    "from tqdm import tqdm"
   ]
  },
  {
   "cell_type": "code",
   "execution_count": 2,
   "metadata": {},
   "outputs": [],
   "source": [
    "with open('training_data', 'rb') as train:\n",
    "    X_train = pickle.load(train)"
   ]
  },
  {
   "cell_type": "code",
   "execution_count": 3,
   "metadata": {},
   "outputs": [],
   "source": [
    "with open('test_data', 'rb') as test:\n",
    "    X_test = pickle.load(test)"
   ]
  },
  {
   "cell_type": "code",
   "execution_count": 4,
   "metadata": {},
   "outputs": [],
   "source": [
    "nlp = spacy.load(\"en_core_web_sm\")"
   ]
  },
  {
   "cell_type": "code",
   "execution_count": 5,
   "metadata": {},
   "outputs": [
    {
     "name": "stderr",
     "output_type": "stream",
     "text": [
      "100%|█████████████████████████████████████████████████████████████████████████████| 9775/9775 [01:02<00:00, 157.66it/s]\n"
     ]
    }
   ],
   "source": [
    "data = []\n",
    "\n",
    "for i in tqdm(range(len(X_train))):\n",
    "    doc = nlp(X_train[i][0])\n",
    "    ents = X_train[i][1]['entities']\n",
    "    new_ents = offsets_from_biluo_tags(doc, ents)\n",
    "    #data.append((X_train[i][0], {'entities': ents}))\n",
    "    data.append((X_train[i][0], {'entities': new_ents}))"
   ]
  },
  {
   "cell_type": "code",
   "execution_count": 6,
   "metadata": {},
   "outputs": [
    {
     "name": "stderr",
     "output_type": "stream",
     "text": [
      "100%|███████████████████████████████████████████████████████████████████████████| 2443/2443 [00:00<00:00, 25245.04it/s]\n"
     ]
    }
   ],
   "source": [
    "test_data = []\n",
    "\n",
    "for i in tqdm(range(len(X_test))):\n",
    "    doc = nlp.make_doc(X_test[i][0])\n",
    "    ents = X_test[i][1]['entities']\n",
    "    new_ents = offsets_from_biluo_tags(doc, ents)\n",
    "    #data.append((X_train[i][0], {'entities': ents}))\n",
    "    test_data.append((X_test[i][0], {'entities': new_ents}))"
   ]
  },
  {
   "cell_type": "code",
   "execution_count": 7,
   "metadata": {},
   "outputs": [
    {
     "name": "stdout",
     "output_type": "stream",
     "text": [
      "2443\n"
     ]
    }
   ],
   "source": [
    "random.seed(10)\n",
    "random.shuffle(test_data)\n",
    "print(len(test_data))"
   ]
  },
  {
   "cell_type": "code",
   "execution_count": 8,
   "metadata": {},
   "outputs": [],
   "source": [
    "X_validation = test_data[0:1221]\n",
    "X_test = test_data[1221:]"
   ]
  },
  {
   "cell_type": "code",
   "execution_count": 9,
   "metadata": {},
   "outputs": [],
   "source": [
    "entities = ['ACTOR', 'YEAR', 'TITLE', 'GENRE', 'DIRECTOR', 'SONG', 'PLOT', 'REVIEW', 'CHARACTER',\n",
    "            'RATING', 'RATINGS_AVERAGE', 'TRAILER']"
   ]
  },
  {
   "cell_type": "code",
   "execution_count": 10,
   "metadata": {},
   "outputs": [],
   "source": [
    "nlp = spacy.load(\"en_core_web_sm\")"
   ]
  },
  {
   "cell_type": "code",
   "execution_count": 11,
   "metadata": {},
   "outputs": [],
   "source": [
    "ner = nlp.get_pipe('ner')"
   ]
  },
  {
   "cell_type": "code",
   "execution_count": 12,
   "metadata": {},
   "outputs": [],
   "source": [
    "for ent in entities:\n",
    "    ner.add_label(ent)"
   ]
  },
  {
   "cell_type": "code",
   "execution_count": 13,
   "metadata": {},
   "outputs": [
    {
     "data": {
      "text/plain": [
       "('ACTOR',\n",
       " 'CARDINAL',\n",
       " 'CHARACTER',\n",
       " 'DATE',\n",
       " 'DIRECTOR',\n",
       " 'EVENT',\n",
       " 'FAC',\n",
       " 'GENRE',\n",
       " 'GPE',\n",
       " 'LANGUAGE',\n",
       " 'LAW',\n",
       " 'LOC',\n",
       " 'MONEY',\n",
       " 'NORP',\n",
       " 'ORDINAL',\n",
       " 'ORG',\n",
       " 'PERCENT',\n",
       " 'PERSON',\n",
       " 'PLOT',\n",
       " 'PRODUCT',\n",
       " 'QUANTITY',\n",
       " 'RATING',\n",
       " 'RATINGS_AVERAGE',\n",
       " 'REVIEW',\n",
       " 'SONG',\n",
       " 'TIME',\n",
       " 'TITLE',\n",
       " 'TRAILER',\n",
       " 'WORK_OF_ART',\n",
       " 'YEAR')"
      ]
     },
     "execution_count": 13,
     "metadata": {},
     "output_type": "execute_result"
    }
   ],
   "source": [
    "ner.labels"
   ]
  },
  {
   "cell_type": "code",
   "execution_count": 14,
   "metadata": {},
   "outputs": [
    {
     "data": {
      "text/plain": [
       "['tagger', 'parser', 'ner']"
      ]
     },
     "execution_count": 14,
     "metadata": {},
     "output_type": "execute_result"
    }
   ],
   "source": [
    "nlp.pipe_names"
   ]
  },
  {
   "cell_type": "code",
   "execution_count": 15,
   "metadata": {},
   "outputs": [],
   "source": [
    "def evaluate(nlp, examples):\n",
    "    scorer = Scorer()\n",
    "    for input_, annot in examples:\n",
    "        doc_gold_text = nlp.make_doc(input_)\n",
    "        gold = GoldParse(doc_gold_text, entities=annot['entities'])\n",
    "        pred_value = nlp(input_)\n",
    "        scorer.score(pred_value, gold)\n",
    "    return scorer.scores"
   ]
  },
  {
   "cell_type": "code",
   "execution_count": 17,
   "metadata": {},
   "outputs": [
    {
     "name": "stderr",
     "output_type": "stream",
     "text": [
      "\r",
      "  0%|                                                                                          | 0/100 [00:00<?, ?it/s]"
     ]
    },
    {
     "name": "stdout",
     "output_type": "stream",
     "text": [
      "Starting iteration 0\n",
      "Losses {'ner': 45668.75988292694}\n"
     ]
    },
    {
     "name": "stderr",
     "output_type": "stream",
     "text": [
      "\r",
      "  1%|▊                                                                               | 1/100 [00:49<1:21:12, 49.22s/it]"
     ]
    },
    {
     "name": "stdout",
     "output_type": "stream",
     "text": [
      "Train f1 score:  72.78315425842669\n",
      "Test f1 score:  70.54294975688818\n",
      "Starting iteration 1\n",
      "Losses {'ner': 42650.70007133484}\n"
     ]
    },
    {
     "name": "stderr",
     "output_type": "stream",
     "text": [
      "\r",
      "  2%|█▌                                                                              | 2/100 [01:38<1:20:14, 49.13s/it]"
     ]
    },
    {
     "name": "stdout",
     "output_type": "stream",
     "text": [
      "Train f1 score:  77.97692990239574\n",
      "Test f1 score:  75.3899129025724\n",
      "Starting iteration 2\n",
      "Losses {'ner': 41407.45257949829}\n"
     ]
    },
    {
     "name": "stderr",
     "output_type": "stream",
     "text": [
      "\r",
      "  3%|██▍                                                                             | 3/100 [02:27<1:19:18, 49.06s/it]"
     ]
    },
    {
     "name": "stdout",
     "output_type": "stream",
     "text": [
      "Train f1 score:  80.17078740939331\n",
      "Test f1 score:  76.70690678804671\n",
      "Starting iteration 3\n",
      "Losses {'ner': 40032.88834667206}\n"
     ]
    },
    {
     "name": "stderr",
     "output_type": "stream",
     "text": [
      "\r",
      "  4%|███▏                                                                            | 4/100 [03:15<1:18:15, 48.91s/it]"
     ]
    },
    {
     "name": "stdout",
     "output_type": "stream",
     "text": [
      "Train f1 score:  82.21339950372207\n",
      "Test f1 score:  78.83587408433974\n",
      "Starting iteration 4\n",
      "Losses {'ner': 39326.14853191376}\n"
     ]
    },
    {
     "name": "stderr",
     "output_type": "stream",
     "text": [
      "\r",
      "  5%|████                                                                            | 5/100 [04:04<1:17:13, 48.77s/it]"
     ]
    },
    {
     "name": "stdout",
     "output_type": "stream",
     "text": [
      "Train f1 score:  84.13875479022545\n",
      "Test f1 score:  80.54011119936457\n",
      "Starting iteration 5\n",
      "Losses {'ner': 38992.185114860535}\n"
     ]
    },
    {
     "name": "stderr",
     "output_type": "stream",
     "text": [
      "\r",
      "  6%|████▊                                                                           | 6/100 [04:52<1:16:23, 48.76s/it]"
     ]
    },
    {
     "name": "stdout",
     "output_type": "stream",
     "text": [
      "Train f1 score:  85.23939469114364\n",
      "Test f1 score:  80.38674033149171\n",
      "Starting iteration 6\n",
      "Losses {'ner': 38583.069425582886}\n"
     ]
    },
    {
     "name": "stderr",
     "output_type": "stream",
     "text": [
      "\r",
      "  7%|█████▌                                                                          | 7/100 [05:41<1:15:26, 48.67s/it]"
     ]
    },
    {
     "name": "stdout",
     "output_type": "stream",
     "text": [
      "Train f1 score:  87.13370755953412\n",
      "Test f1 score:  82.55285516696304\n",
      "Starting iteration 7\n",
      "Losses {'ner': 38369.31705093384}\n"
     ]
    },
    {
     "name": "stderr",
     "output_type": "stream",
     "text": [
      "\r",
      "  8%|██████▍                                                                         | 8/100 [06:29<1:14:31, 48.61s/it]"
     ]
    },
    {
     "name": "stdout",
     "output_type": "stream",
     "text": [
      "Train f1 score:  87.74020557127959\n",
      "Test f1 score:  82.46276067527309\n",
      "Starting iteration 8\n",
      "Losses {'ner': 37758.159019470215}\n"
     ]
    },
    {
     "name": "stderr",
     "output_type": "stream",
     "text": [
      "\r",
      "  9%|███████▏                                                                        | 9/100 [07:18<1:13:41, 48.59s/it]"
     ]
    },
    {
     "name": "stdout",
     "output_type": "stream",
     "text": [
      "Train f1 score:  88.23211212195721\n",
      "Test f1 score:  82.6086956521739\n",
      "Starting iteration 9\n",
      "Losses {'ner': 37207.03709602356}\n"
     ]
    },
    {
     "name": "stderr",
     "output_type": "stream",
     "text": [
      "\r",
      " 10%|███████▉                                                                       | 10/100 [08:06<1:12:50, 48.56s/it]"
     ]
    },
    {
     "name": "stdout",
     "output_type": "stream",
     "text": [
      "Train f1 score:  88.87462347538393\n",
      "Test f1 score:  83.3431894342598\n",
      "Starting iteration 10\n",
      "Losses {'ner': 37335.941970825195}\n"
     ]
    },
    {
     "name": "stderr",
     "output_type": "stream",
     "text": [
      "\r",
      " 11%|████████▋                                                                      | 11/100 [08:54<1:11:47, 48.40s/it]"
     ]
    },
    {
     "name": "stdout",
     "output_type": "stream",
     "text": [
      "Train f1 score:  89.49305589635374\n",
      "Test f1 score:  83.5264087963872\n",
      "Starting iteration 11\n",
      "Losses {'ner': 37206.49286651611}\n"
     ]
    },
    {
     "name": "stderr",
     "output_type": "stream",
     "text": [
      "\r",
      " 12%|█████████▍                                                                     | 12/100 [09:42<1:10:51, 48.31s/it]"
     ]
    },
    {
     "name": "stdout",
     "output_type": "stream",
     "text": [
      "Train f1 score:  90.06257082327437\n",
      "Test f1 score:  83.47791798107255\n",
      "Starting iteration 12\n",
      "Losses {'ner': 36731.407037734985}\n"
     ]
    },
    {
     "name": "stderr",
     "output_type": "stream",
     "text": [
      "\r",
      " 13%|██████████▎                                                                    | 13/100 [10:30<1:09:54, 48.22s/it]"
     ]
    },
    {
     "name": "stdout",
     "output_type": "stream",
     "text": [
      "Train f1 score:  90.53390911767593\n",
      "Test f1 score:  83.91030684500393\n",
      "Starting iteration 13\n",
      "Losses {'ner': 36663.54332065582}\n"
     ]
    },
    {
     "name": "stderr",
     "output_type": "stream",
     "text": [
      "\r",
      " 14%|███████████                                                                    | 14/100 [11:18<1:09:03, 48.18s/it]"
     ]
    },
    {
     "name": "stdout",
     "output_type": "stream",
     "text": [
      "Train f1 score:  91.02419394415271\n",
      "Test f1 score:  84.41915227629514\n",
      "Starting iteration 14\n",
      "Losses {'ner': 36423.610958099365}\n"
     ]
    },
    {
     "name": "stderr",
     "output_type": "stream",
     "text": [
      "\r",
      " 15%|███████████▊                                                                   | 15/100 [12:06<1:08:11, 48.14s/it]"
     ]
    },
    {
     "name": "stdout",
     "output_type": "stream",
     "text": [
      "Train f1 score:  91.44101171693451\n",
      "Test f1 score:  84.69208211143696\n",
      "Starting iteration 15\n",
      "Losses {'ner': 36333.61600780487}\n"
     ]
    },
    {
     "name": "stderr",
     "output_type": "stream",
     "text": [
      "\r",
      " 16%|████████████▋                                                                  | 16/100 [12:54<1:07:14, 48.03s/it]"
     ]
    },
    {
     "name": "stdout",
     "output_type": "stream",
     "text": [
      "Train f1 score:  91.56385135960518\n",
      "Test f1 score:  84.70542333203277\n",
      "Starting iteration 16\n",
      "Losses {'ner': 35983.599345207214}\n"
     ]
    },
    {
     "name": "stderr",
     "output_type": "stream",
     "text": [
      "\r",
      " 17%|█████████████▍                                                                 | 17/100 [13:42<1:06:21, 47.97s/it]"
     ]
    },
    {
     "name": "stdout",
     "output_type": "stream",
     "text": [
      "Train f1 score:  91.92699365376102\n",
      "Test f1 score:  85.00098289758206\n",
      "Starting iteration 17\n",
      "Losses {'ner': 36107.12779998779}\n"
     ]
    },
    {
     "name": "stderr",
     "output_type": "stream",
     "text": [
      "\r",
      " 18%|██████████████▏                                                                | 18/100 [14:30<1:05:39, 48.04s/it]"
     ]
    },
    {
     "name": "stdout",
     "output_type": "stream",
     "text": [
      "Train f1 score:  91.95801629437527\n",
      "Test f1 score:  84.55982822564904\n",
      "Starting iteration 18\n",
      "Losses {'ner': 36009.83596229553}\n"
     ]
    },
    {
     "name": "stderr",
     "output_type": "stream",
     "text": [
      "\r",
      " 19%|███████████████                                                                | 19/100 [15:19<1:05:13, 48.32s/it]"
     ]
    },
    {
     "name": "stdout",
     "output_type": "stream",
     "text": [
      "Train f1 score:  91.96417617470249\n",
      "Test f1 score:  84.95679497250589\n",
      "Starting iteration 19\n",
      "Losses {'ner': 35506.759318351746}\n"
     ]
    },
    {
     "name": "stderr",
     "output_type": "stream",
     "text": [
      "\r",
      " 20%|███████████████▊                                                               | 20/100 [16:08<1:04:34, 48.43s/it]"
     ]
    },
    {
     "name": "stdout",
     "output_type": "stream",
     "text": [
      "Train f1 score:  92.75256043606853\n",
      "Test f1 score:  84.29462197973498\n",
      "Starting iteration 20\n",
      "Losses {'ner': 35583.13792991638}\n"
     ]
    },
    {
     "name": "stderr",
     "output_type": "stream",
     "text": [
      "\r",
      " 21%|████████████████▌                                                              | 21/100 [16:57<1:04:03, 48.66s/it]"
     ]
    },
    {
     "name": "stdout",
     "output_type": "stream",
     "text": [
      "Train f1 score:  92.91361711502216\n",
      "Test f1 score:  84.94223614646565\n",
      "Starting iteration 21\n",
      "Losses {'ner': 35709.847677230835}\n"
     ]
    },
    {
     "name": "stderr",
     "output_type": "stream",
     "text": [
      "\r",
      " 21%|████████████████▌                                                              | 21/100 [17:47<1:06:55, 50.83s/it]"
     ]
    },
    {
     "name": "stdout",
     "output_type": "stream",
     "text": [
      "Train f1 score:  93.2406296668054\n",
      "Test f1 score:  84.84136310223266\n"
     ]
    },
    {
     "name": "stderr",
     "output_type": "stream",
     "text": [
      "\n"
     ]
    }
   ],
   "source": [
    "other_pipes = [pipe for pipe in nlp.pipe_names if pipe != 'ner']\n",
    "iterations = 100\n",
    "train_f1s = []\n",
    "test_f1s = []\n",
    "\n",
    "best_score = 0\n",
    "counter = 0\n",
    "\n",
    "with nlp.disable_pipes(*other_pipes): # only train NER\n",
    "    optimizer = nlp.begin_training()\n",
    "    for itn in tqdm(range(iterations)):\n",
    "        print(\"Starting iteration \" + str(itn))\n",
    "        random.shuffle(data)\n",
    "        losses = {}\n",
    "        \n",
    "        \n",
    "        batches = minibatch(data, size=compounding(32.0, 1024.0, 1.001))\n",
    "        for batch in batches:\n",
    "            texts, annotations = zip(*batch)\n",
    "            nlp.update(texts, annotations,\n",
    "                       drop = 0.2,\n",
    "                      sgd = optimizer, losses = losses)\n",
    "\n",
    "        print('Losses', losses)\n",
    "        train_dict = evaluate(nlp, data)\n",
    "        train_f1 = train_dict['ents_f']\n",
    "        train_f1s.append(train_f1)\n",
    "        test_dict = evaluate(nlp, X_test)\n",
    "        test_f1 = test_dict['ents_f']\n",
    "        test_f1s.append(test_f1)\n",
    "        print(\"Train f1 score: \", train_f1)\n",
    "        print(\"Test f1 score: \", test_f1)\n",
    "        if test_f1 > best_score:\n",
    "            counter = 0\n",
    "            best_score = test_f1\n",
    "        else:\n",
    "            counter += 1\n",
    "        if counter > 4:\n",
    "            break"
   ]
  },
  {
   "cell_type": "code",
   "execution_count": 18,
   "metadata": {},
   "outputs": [
    {
     "data": {
      "image/png": "[encoded data removed]",
      "text/plain": [
       "<Figure size 432x288 with 1 Axes>"
      ]
     },
     "metadata": {
      "needs_background": "light"
     },
     "output_type": "display_data"
    }
   ],
   "source": [
    "%matplotlib inline\n",
    "from matplotlib import pyplot as plt\n",
    "\n",
    "x = list(range(len(train_f1s)))\n",
    "\n",
    "plt.plot(x, train_f1s, label = 'train')\n",
    "plt.plot(x, test_f1s, color = 'red', linestyle = '--', label = 'test')\n",
    "plt.ylabel('F1-Score')\n",
    "plt.xlabel('Epochs')\n",
    "plt.legend(loc = 'lower right')\n",
    "plt.show()"
   ]
  },
  {
   "cell_type": "markdown",
   "metadata": {},
   "source": [
    "The test ended at 38 epochs. This seems reasonable enough. "
   ]
  },
  {
   "cell_type": "code",
   "execution_count": 19,
   "metadata": {},
   "outputs": [],
   "source": [
    "data += X_test"
   ]
  },
  {
   "cell_type": "code",
   "execution_count": 20,
   "metadata": {},
   "outputs": [],
   "source": [
    "nlp = spacy.load(\"en_core_web_sm\")"
   ]
  },
  {
   "cell_type": "code",
   "execution_count": 21,
   "metadata": {},
   "outputs": [],
   "source": [
    "ner = nlp.get_pipe('ner')"
   ]
  },
  {
   "cell_type": "code",
   "execution_count": 22,
   "metadata": {},
   "outputs": [],
   "source": [
    "for ent in entities:\n",
    "    ner.add_label(ent)"
   ]
  },
  {
   "cell_type": "code",
   "execution_count": 23,
   "metadata": {},
   "outputs": [
    {
     "name": "stderr",
     "output_type": "stream",
     "text": [
      "\r",
      "  0%|                                                                                           | 0/22 [00:00<?, ?it/s]"
     ]
    },
    {
     "name": "stdout",
     "output_type": "stream",
     "text": [
      "Starting iteration 0\n"
     ]
    },
    {
     "name": "stderr",
     "output_type": "stream",
     "text": [
      "\r",
      "  5%|███▊                                                                               | 1/22 [00:25<09:00, 25.76s/it]"
     ]
    },
    {
     "name": "stdout",
     "output_type": "stream",
     "text": [
      "Losses {'ner': 55243.792145729065}\n",
      "Starting iteration 1\n"
     ]
    },
    {
     "name": "stderr",
     "output_type": "stream",
     "text": [
      "\r",
      "  9%|███████▌                                                                           | 2/22 [00:50<08:31, 25.56s/it]"
     ]
    },
    {
     "name": "stdout",
     "output_type": "stream",
     "text": [
      "Losses {'ner': 49122.853342056274}\n",
      "Starting iteration 2\n"
     ]
    },
    {
     "name": "stderr",
     "output_type": "stream",
     "text": [
      "\r",
      " 14%|███████████▎                                                                       | 3/22 [01:15<08:02, 25.41s/it]"
     ]
    },
    {
     "name": "stdout",
     "output_type": "stream",
     "text": [
      "Losses {'ner': 46457.47179031372}\n",
      "Starting iteration 3\n"
     ]
    },
    {
     "name": "stderr",
     "output_type": "stream",
     "text": [
      "\r",
      " 18%|███████████████                                                                    | 4/22 [01:40<07:35, 25.31s/it]"
     ]
    },
    {
     "name": "stdout",
     "output_type": "stream",
     "text": [
      "Losses {'ner': 45261.958169937134}\n",
      "Starting iteration 4\n"
     ]
    },
    {
     "name": "stderr",
     "output_type": "stream",
     "text": [
      "\r",
      " 23%|██████████████████▊                                                                | 5/22 [02:06<07:08, 25.22s/it]"
     ]
    },
    {
     "name": "stdout",
     "output_type": "stream",
     "text": [
      "Losses {'ner': 44309.51694202423}\n",
      "Starting iteration 5\n"
     ]
    },
    {
     "name": "stderr",
     "output_type": "stream",
     "text": [
      "\r",
      " 27%|██████████████████████▋                                                            | 6/22 [02:31<06:42, 25.19s/it]"
     ]
    },
    {
     "name": "stdout",
     "output_type": "stream",
     "text": [
      "Losses {'ner': 43926.12260246277}\n",
      "Starting iteration 6\n"
     ]
    },
    {
     "name": "stderr",
     "output_type": "stream",
     "text": [
      "\r",
      " 32%|██████████████████████████▍                                                        | 7/22 [02:56<06:16, 25.12s/it]"
     ]
    },
    {
     "name": "stdout",
     "output_type": "stream",
     "text": [
      "Losses {'ner': 43156.25441646576}\n",
      "Starting iteration 7\n"
     ]
    },
    {
     "name": "stderr",
     "output_type": "stream",
     "text": [
      "\r",
      " 36%|██████████████████████████████▏                                                    | 8/22 [03:21<05:51, 25.11s/it]"
     ]
    },
    {
     "name": "stdout",
     "output_type": "stream",
     "text": [
      "Losses {'ner': 43469.086022377014}\n",
      "Starting iteration 8\n"
     ]
    },
    {
     "name": "stderr",
     "output_type": "stream",
     "text": [
      "\r",
      " 41%|█████████████████████████████████▉                                                 | 9/22 [03:46<05:26, 25.08s/it]"
     ]
    },
    {
     "name": "stdout",
     "output_type": "stream",
     "text": [
      "Losses {'ner': 42438.49873542786}\n",
      "Starting iteration 9\n"
     ]
    },
    {
     "name": "stderr",
     "output_type": "stream",
     "text": [
      "\r",
      " 45%|█████████████████████████████████████▎                                            | 10/22 [04:11<05:00, 25.06s/it]"
     ]
    },
    {
     "name": "stdout",
     "output_type": "stream",
     "text": [
      "Losses {'ner': 41659.37548351288}\n",
      "Starting iteration 10\n"
     ]
    },
    {
     "name": "stderr",
     "output_type": "stream",
     "text": [
      "\r",
      " 50%|█████████████████████████████████████████                                         | 11/22 [04:36<04:35, 25.06s/it]"
     ]
    },
    {
     "name": "stdout",
     "output_type": "stream",
     "text": [
      "Losses {'ner': 42149.497190475464}\n",
      "Starting iteration 11\n"
     ]
    },
    {
     "name": "stderr",
     "output_type": "stream",
     "text": [
      "\r",
      " 55%|████████████████████████████████████████████▋                                     | 12/22 [05:01<04:10, 25.04s/it]"
     ]
    },
    {
     "name": "stdout",
     "output_type": "stream",
     "text": [
      "Losses {'ner': 41250.351731300354}\n",
      "Starting iteration 12\n"
     ]
    },
    {
     "name": "stderr",
     "output_type": "stream",
     "text": [
      "\r",
      " 59%|████████████████████████████████████████████████▍                                 | 13/22 [05:26<03:45, 25.05s/it]"
     ]
    },
    {
     "name": "stdout",
     "output_type": "stream",
     "text": [
      "Losses {'ner': 41236.038440704346}\n",
      "Starting iteration 13\n"
     ]
    },
    {
     "name": "stderr",
     "output_type": "stream",
     "text": [
      "\r",
      " 64%|████████████████████████████████████████████████████▏                             | 14/22 [05:51<03:20, 25.05s/it]"
     ]
    },
    {
     "name": "stdout",
     "output_type": "stream",
     "text": [
      "Losses {'ner': 41202.553829193115}\n",
      "Starting iteration 14\n"
     ]
    },
    {
     "name": "stderr",
     "output_type": "stream",
     "text": [
      "\r",
      " 68%|███████████████████████████████████████████████████████▉                          | 15/22 [06:16<02:55, 25.11s/it]"
     ]
    },
    {
     "name": "stdout",
     "output_type": "stream",
     "text": [
      "Losses {'ner': 41180.25599002838}\n",
      "Starting iteration 15\n"
     ]
    },
    {
     "name": "stderr",
     "output_type": "stream",
     "text": [
      "\r",
      " 73%|███████████████████████████████████████████████████████████▋                      | 16/22 [06:42<02:31, 25.24s/it]"
     ]
    },
    {
     "name": "stdout",
     "output_type": "stream",
     "text": [
      "Losses {'ner': 41159.22203826904}\n",
      "Starting iteration 16\n"
     ]
    },
    {
     "name": "stderr",
     "output_type": "stream",
     "text": [
      "\r",
      " 77%|███████████████████████████████████████████████████████████████▎                  | 17/22 [07:07<02:06, 25.39s/it]"
     ]
    },
    {
     "name": "stdout",
     "output_type": "stream",
     "text": [
      "Losses {'ner': 41141.42802143097}\n",
      "Starting iteration 17\n"
     ]
    },
    {
     "name": "stderr",
     "output_type": "stream",
     "text": [
      "\r",
      " 82%|███████████████████████████████████████████████████████████████████               | 18/22 [07:34<01:42, 25.64s/it]"
     ]
    },
    {
     "name": "stdout",
     "output_type": "stream",
     "text": [
      "Losses {'ner': 40462.929847717285}\n",
      "Starting iteration 18\n"
     ]
    },
    {
     "name": "stderr",
     "output_type": "stream",
     "text": [
      "\r",
      " 86%|██████████████████████████████████████████████████████████████████████▊           | 19/22 [08:00<01:17, 26.00s/it]"
     ]
    },
    {
     "name": "stdout",
     "output_type": "stream",
     "text": [
      "Losses {'ner': 40590.1063041687}\n",
      "Starting iteration 19\n"
     ]
    },
    {
     "name": "stderr",
     "output_type": "stream",
     "text": [
      "\r",
      " 91%|██████████████████████████████████████████████████████████████████████████▌       | 20/22 [08:28<00:52, 26.48s/it]"
     ]
    },
    {
     "name": "stdout",
     "output_type": "stream",
     "text": [
      "Losses {'ner': 40500.53882312775}\n",
      "Starting iteration 20\n"
     ]
    },
    {
     "name": "stderr",
     "output_type": "stream",
     "text": [
      "\r",
      " 95%|██████████████████████████████████████████████████████████████████████████████▎   | 21/22 [08:56<00:27, 27.06s/it]"
     ]
    },
    {
     "name": "stdout",
     "output_type": "stream",
     "text": [
      "Losses {'ner': 40267.33267593384}\n",
      "Starting iteration 21\n"
     ]
    },
    {
     "name": "stderr",
     "output_type": "stream",
     "text": [
      "100%|██████████████████████████████████████████████████████████████████████████████████| 22/22 [09:25<00:00, 25.72s/it]"
     ]
    },
    {
     "name": "stdout",
     "output_type": "stream",
     "text": [
      "Losses {'ner': 40187.383180618286}\n"
     ]
    },
    {
     "name": "stderr",
     "output_type": "stream",
     "text": [
      "\n"
     ]
    }
   ],
   "source": [
    "other_pipes = [pipe for pipe in nlp.pipe_names if pipe != 'ner']\n",
    "\n",
    "\n",
    "with nlp.disable_pipes(*other_pipes): # only train NER\n",
    "    optimizer = nlp.begin_training()\n",
    "    for itn in tqdm(range(len(train_f1s))):\n",
    "        print(\"Starting iteration \" + str(itn))\n",
    "        random.shuffle(data)\n",
    "        losses = {}\n",
    "        \n",
    "        \n",
    "        batches = minibatch(data, size=compounding(32.0, 1024.0, 1.001))\n",
    "        for batch in batches:\n",
    "            texts, annotations = zip(*batch)\n",
    "            nlp.update(texts, annotations,\n",
    "                       drop = 0.2,\n",
    "                      sgd = optimizer, losses = losses)\n",
    "\n",
    "        print('Losses', losses)"
   ]
  },
  {
   "cell_type": "code",
   "execution_count": 24,
   "metadata": {},
   "outputs": [
    {
     "data": {
      "text/plain": [
       "{'uas': 0.0,\n",
       " 'las': 0.0,\n",
       " 'las_per_type': {'nsubj': {'p': 0.0, 'r': 0.0, 'f': 0.0},\n",
       "  'root': {'p': 0.0, 'r': 0.0, 'f': 0.0},\n",
       "  'det': {'p': 0.0, 'r': 0.0, 'f': 0.0},\n",
       "  'amod': {'p': 0.0, 'r': 0.0, 'f': 0.0},\n",
       "  'attr': {'p': 0.0, 'r': 0.0, 'f': 0.0},\n",
       "  'prep': {'p': 0.0, 'r': 0.0, 'f': 0.0},\n",
       "  'pobj': {'p': 0.0, 'r': 0.0, 'f': 0.0},\n",
       "  'dobj': {'p': 0.0, 'r': 0.0, 'f': 0.0},\n",
       "  'compound': {'p': 0.0, 'r': 0.0, 'f': 0.0},\n",
       "  'nsubjpass': {'p': 0.0, 'r': 0.0, 'f': 0.0},\n",
       "  'advmod': {'p': 0.0, 'r': 0.0, 'f': 0.0},\n",
       "  'nummod': {'p': 0.0, 'r': 0.0, 'f': 0.0},\n",
       "  'npadvmod': {'p': 0.0, 'r': 0.0, 'f': 0.0},\n",
       "  'auxpass': {'p': 0.0, 'r': 0.0, 'f': 0.0},\n",
       "  'agent': {'p': 0.0, 'r': 0.0, 'f': 0.0},\n",
       "  'poss': {'p': 0.0, 'r': 0.0, 'f': 0.0},\n",
       "  'nmod': {'p': 0.0, 'r': 0.0, 'f': 0.0},\n",
       "  'acl': {'p': 0.0, 'r': 0.0, 'f': 0.0},\n",
       "  'relcl': {'p': 0.0, 'r': 0.0, 'f': 0.0},\n",
       "  'acomp': {'p': 0.0, 'r': 0.0, 'f': 0.0},\n",
       "  'expl': {'p': 0.0, 'r': 0.0, 'f': 0.0},\n",
       "  'dative': {'p': 0.0, 'r': 0.0, 'f': 0.0},\n",
       "  'dep': {'p': 0.0, 'r': 0.0, 'f': 0.0},\n",
       "  'csubj': {'p': 0.0, 'r': 0.0, 'f': 0.0},\n",
       "  'cc': {'p': 0.0, 'r': 0.0, 'f': 0.0},\n",
       "  'conj': {'p': 0.0, 'r': 0.0, 'f': 0.0},\n",
       "  'appos': {'p': 0.0, 'r': 0.0, 'f': 0.0},\n",
       "  'aux': {'p': 0.0, 'r': 0.0, 'f': 0.0},\n",
       "  'case': {'p': 0.0, 'r': 0.0, 'f': 0.0},\n",
       "  'xcomp': {'p': 0.0, 'r': 0.0, 'f': 0.0},\n",
       "  'oprd': {'p': 0.0, 'r': 0.0, 'f': 0.0},\n",
       "  'ccomp': {'p': 0.0, 'r': 0.0, 'f': 0.0},\n",
       "  'advcl': {'p': 0.0, 'r': 0.0, 'f': 0.0},\n",
       "  'prt': {'p': 0.0, 'r': 0.0, 'f': 0.0},\n",
       "  'pcomp': {'p': 0.0, 'r': 0.0, 'f': 0.0},\n",
       "  'neg': {'p': 0.0, 'r': 0.0, 'f': 0.0},\n",
       "  'predet': {'p': 0.0, 'r': 0.0, 'f': 0.0},\n",
       "  'intj': {'p': 0.0, 'r': 0.0, 'f': 0.0},\n",
       "  'mark': {'p': 0.0, 'r': 0.0, 'f': 0.0},\n",
       "  'preconj': {'p': 0.0, 'r': 0.0, 'f': 0.0},\n",
       "  'csubjpass': {'p': 0.0, 'r': 0.0, 'f': 0.0},\n",
       "  'quantmod': {'p': 0.0, 'r': 0.0, 'f': 0.0}},\n",
       " 'ents_p': 85.24911730090231,\n",
       " 'ents_r': 85.11555033294164,\n",
       " 'ents_f': 85.18228145825167,\n",
       " 'ents_per_type': {'CHARACTER': {'p': 60.0,\n",
       "   'r': 52.17391304347826,\n",
       "   'f': 55.81395348837209},\n",
       "  'TITLE': {'p': 83.71212121212122,\n",
       "   'r': 78.09187279151944,\n",
       "   'f': 80.80438756855575},\n",
       "  'DIRECTOR': {'p': 87.55760368663594,\n",
       "   'r': 84.82142857142857,\n",
       "   'f': 86.16780045351476},\n",
       "  'PLOT': {'p': 66.22807017543859,\n",
       "   'r': 61.885245901639344,\n",
       "   'f': 63.98305084745761},\n",
       "  'SONG': {'p': 72.22222222222221,\n",
       "   'r': 68.42105263157895,\n",
       "   'f': 70.27027027027027},\n",
       "  'RATINGS_AVERAGE': {'p': 82.35294117647058,\n",
       "   'r': 85.44600938967136,\n",
       "   'f': 83.87096774193547},\n",
       "  'GENRE': {'p': 87.61220825852783,\n",
       "   'r': 92.42424242424242,\n",
       "   'f': 89.95391705069125},\n",
       "  'YEAR': {'p': 94.61077844311377,\n",
       "   'r': 93.76854599406528,\n",
       "   'f': 94.18777943368107},\n",
       "  'RATING': {'p': 89.91228070175438,\n",
       "   'r': 89.91228070175438,\n",
       "   'f': 89.91228070175438},\n",
       "  'ACTOR': {'p': 87.2340425531915,\n",
       "   'r': 91.11111111111111,\n",
       "   'f': 89.1304347826087},\n",
       "  'TRAILER': {'p': 85.71428571428571, 'r': 75.0, 'f': 80.0},\n",
       "  'REVIEW': {'p': 40.0, 'r': 20.0, 'f': 26.666666666666668}},\n",
       " 'tags_acc': 0.0,\n",
       " 'token_acc': 100.0,\n",
       " 'textcat_score': 0.0,\n",
       " 'textcats_per_cat': {}}"
      ]
     },
     "execution_count": 24,
     "metadata": {},
     "output_type": "execute_result"
    }
   ],
   "source": [
    "validation_dict = evaluate(nlp, X_validation)\n",
    "validation_dict"
   ]
  },
  {
   "cell_type": "code",
   "execution_count": 25,
   "metadata": {},
   "outputs": [],
   "source": [
    "nlp.to_disk('ner_model')"
   ]
  },
  {
   "cell_type": "code",
   "execution_count": null,
   "metadata": {},
   "outputs": [],
   "source": []
  }
 ],
 "metadata": {
  "kernelspec": {
   "display_name": "Python 3",
   "language": "python",
   "name": "python3"
  },
  "language_info": {
   "codemirror_mode": {
    "name": "ipython",
    "version": 3
   },
   "file_extension": ".py",
   "mimetype": "text/x-python",
   "name": "python",
   "nbconvert_exporter": "python",
   "pygments_lexer": "ipython3",
   "version": "3.7.4"
  }
 },
 "nbformat": 4,
 "nbformat_minor": 4
}
